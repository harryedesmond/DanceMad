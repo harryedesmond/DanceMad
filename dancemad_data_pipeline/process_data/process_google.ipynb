{
 "cells": [
  {
   "cell_type": "code",
   "execution_count": 66,
   "metadata": {},
   "outputs": [],
   "source": [
    "import numpy as np \n",
    "import pandas as pd\n",
    "import matplotlib.pyplot as plt\n",
    "import re\n",
    "import seaborn as sns\n",
    "\n",
    "# Read in Google date\n",
    "df = pd.read_csv(r\"C:\\Users\\hazze\\OneDrive\\Documents\\DanceMad\\dancemad_data_pipeline\\process_data\\google_data.csv\", index_col=0)\n"
   ]
  },
  {
   "cell_type": "code",
   "execution_count": 67,
   "metadata": {},
   "outputs": [
    {
     "data": {
      "text/html": [
       "<div>\n",
       "<style scoped>\n",
       "    .dataframe tbody tr th:only-of-type {\n",
       "        vertical-align: middle;\n",
       "    }\n",
       "\n",
       "    .dataframe tbody tr th {\n",
       "        vertical-align: top;\n",
       "    }\n",
       "\n",
       "    .dataframe thead th {\n",
       "        text-align: right;\n",
       "    }\n",
       "</style>\n",
       "<table border=\"1\" class=\"dataframe\">\n",
       "  <thead>\n",
       "    <tr style=\"text-align: right;\">\n",
       "      <th></th>\n",
       "      <th>name</th>\n",
       "      <th>formatted_address</th>\n",
       "      <th>rating</th>\n",
       "      <th>user_ratings_total</th>\n",
       "      <th>types</th>\n",
       "      <th>price_level</th>\n",
       "      <th>dance_type</th>\n",
       "      <th>city</th>\n",
       "    </tr>\n",
       "  </thead>\n",
       "  <tbody>\n",
       "    <tr>\n",
       "      <th>0</th>\n",
       "      <td>Gonzalez y Gonzalez</td>\n",
       "      <td>192 Mercer St, New York, NY 10012, United States</td>\n",
       "      <td>4.1</td>\n",
       "      <td>1820</td>\n",
       "      <td>['restaurant', 'night_club', 'food', 'point_of...</td>\n",
       "      <td>2.0</td>\n",
       "      <td>Salsa</td>\n",
       "      <td>New York</td>\n",
       "    </tr>\n",
       "    <tr>\n",
       "      <th>1</th>\n",
       "      <td>Club Cache</td>\n",
       "      <td>214 W 39th St, New York, NY 10018, United States</td>\n",
       "      <td>3.9</td>\n",
       "      <td>261</td>\n",
       "      <td>['night_club', 'point_of_interest', 'establish...</td>\n",
       "      <td>NaN</td>\n",
       "      <td>Salsa</td>\n",
       "      <td>New York</td>\n",
       "    </tr>\n",
       "    <tr>\n",
       "      <th>2</th>\n",
       "      <td>Salsa Con Fuego</td>\n",
       "      <td>2297 Cedar Ave, Bronx, NY 10468, United States</td>\n",
       "      <td>4.2</td>\n",
       "      <td>5711</td>\n",
       "      <td>['bar', 'restaurant', 'food', 'point_of_intere...</td>\n",
       "      <td>2.0</td>\n",
       "      <td>Salsa</td>\n",
       "      <td>New York</td>\n",
       "    </tr>\n",
       "    <tr>\n",
       "      <th>3</th>\n",
       "      <td>Copacabana Nightclub</td>\n",
       "      <td>625 W 51st St, New York, NY 10019, United States</td>\n",
       "      <td>3.5</td>\n",
       "      <td>631</td>\n",
       "      <td>['night_club', 'point_of_interest', 'establish...</td>\n",
       "      <td>NaN</td>\n",
       "      <td>Salsa</td>\n",
       "      <td>New York</td>\n",
       "    </tr>\n",
       "    <tr>\n",
       "      <th>4</th>\n",
       "      <td>230 Fifth Rooftop Bar</td>\n",
       "      <td>1150 Broadway, New York, NY 10001, United States</td>\n",
       "      <td>4.3</td>\n",
       "      <td>21498</td>\n",
       "      <td>['night_club', 'bar', 'point_of_interest', 'es...</td>\n",
       "      <td>2.0</td>\n",
       "      <td>Salsa</td>\n",
       "      <td>New York</td>\n",
       "    </tr>\n",
       "  </tbody>\n",
       "</table>\n",
       "</div>"
      ],
      "text/plain": [
       "                    name                                 formatted_address  \\\n",
       "0    Gonzalez y Gonzalez  192 Mercer St, New York, NY 10012, United States   \n",
       "1             Club Cache  214 W 39th St, New York, NY 10018, United States   \n",
       "2        Salsa Con Fuego    2297 Cedar Ave, Bronx, NY 10468, United States   \n",
       "3   Copacabana Nightclub  625 W 51st St, New York, NY 10019, United States   \n",
       "4  230 Fifth Rooftop Bar  1150 Broadway, New York, NY 10001, United States   \n",
       "\n",
       "   rating  user_ratings_total  \\\n",
       "0     4.1                1820   \n",
       "1     3.9                 261   \n",
       "2     4.2                5711   \n",
       "3     3.5                 631   \n",
       "4     4.3               21498   \n",
       "\n",
       "                                               types  price_level dance_type  \\\n",
       "0  ['restaurant', 'night_club', 'food', 'point_of...          2.0      Salsa   \n",
       "1  ['night_club', 'point_of_interest', 'establish...          NaN      Salsa   \n",
       "2  ['bar', 'restaurant', 'food', 'point_of_intere...          2.0      Salsa   \n",
       "3  ['night_club', 'point_of_interest', 'establish...          NaN      Salsa   \n",
       "4  ['night_club', 'bar', 'point_of_interest', 'es...          2.0      Salsa   \n",
       "\n",
       "       city  \n",
       "0  New York  \n",
       "1  New York  \n",
       "2  New York  \n",
       "3  New York  \n",
       "4  New York  "
      ]
     },
     "execution_count": 67,
     "metadata": {},
     "output_type": "execute_result"
    }
   ],
   "source": [
    "# Look at head\n",
    "df.head()\n"
   ]
  },
  {
   "cell_type": "code",
   "execution_count": 74,
   "metadata": {},
   "outputs": [
    {
     "data": {
      "text/plain": [
       "{'New York': 'NY',\n",
       " 'London': 'Lon',\n",
       " 'Warsaw': 'War',\n",
       " 'Madrid': 'Mad',\n",
       " 'Barcelona': 'Bar',\n",
       " 'Paris': 'Par',\n",
       " 'Lima': 'Lim',\n",
       " 'Rio de Janiero': 'RJ',\n",
       " 'Cali, Colombia': 'CC',\n",
       " 'Buenos Aires': 'BA'}"
      ]
     },
     "execution_count": 74,
     "metadata": {},
     "output_type": "execute_result"
    }
   ],
   "source": [
    "# Create city name mapping: city_name to shortform\n",
    "def extract_capitals_or_first_three(input_string):\n",
    "    # Extract capital letters from the string\n",
    "    capital_letters = \"\".join([char for char in input_string if char.isupper()])\n",
    "    \n",
    "    # If there are fewer than three capital letters, take as many as there are, else take three\n",
    "    if len(capital_letters) < 2:\n",
    "        return input_string[:3]\n",
    "    else:\n",
    "        return capital_letters\n",
    "    \n",
    "city_sf = [extract_capitals_or_first_three(x) for x in df['city'].unique()]\n",
    "\n",
    "city_mapping = dict(zip(df['city'].unique(), city_sf))\n",
    "\n",
    "# Check mapping values is the same length as cities, to ensure no duplicates\n",
    "assert len(set(city_mapping.values())) == len(df['city'].unique())\n",
    "\n",
    "# Replace values\n",
    "df['city'] = df['city'].replace(city_mapping)\n",
    "city_mapping"
   ]
  },
  {
   "cell_type": "code",
   "execution_count": 75,
   "metadata": {},
   "outputs": [],
   "source": [
    "def bar(category, normal = True):\n",
    "        \"\"\"\n",
    "        This function generates a bar plot for a given category from the Google data.\n",
    "\n",
    "        Parameters:\n",
    "        category (str): The column name from the Google data to be used for the bar plot.\n",
    "            The column should contain categorical data.\n",
    "        normal (bool): To decide whether to produca a normal bar chart, ot goruped bar plot\n",
    "\n",
    "        Returns:\n",
    "        None: The function generates a bar plot and does not return any value.\n",
    "        \"\"\"\n",
    "        # Count the occurrences of each category\n",
    "        category_counts = df[category].value_counts()\n",
    "\n",
    "        # Plot the counts as a bar plot\n",
    "        plt.figure(figsize=(10, 6))\n",
    "        if normal:\n",
    "            category_counts.plot(kind='bar')\n",
    "        else:\n",
    "            sns.countplot(data=df, x=category, hue='dance_type')\n",
    "\n",
    "        # Add labels and title\n",
    "        plt.xlabel(category)\n",
    "        plt.ylabel('Count')\n",
    "        plt.title(f\"{category} count\")\n",
    "        plt.xticks(rotation=0)\n",
    "\n",
    "        # Display the plot\n",
    "        plt.show()\n",
    "\n"
   ]
  },
  {
   "cell_type": "code",
   "execution_count": 76,
   "metadata": {},
   "outputs": [
    {
     "data": {
      "image/png": "[encoded data removed]",
      "text/plain": [
       "<Figure size 1000x600 with 1 Axes>"
      ]
     },
     "metadata": {},
     "output_type": "display_data"
    }
   ],
   "source": [
    "# Bar plot for each category\n",
    "bar('city', normal = False)\n",
    "# bar('dance_type')"
   ]
  },
  {
   "cell_type": "code",
   "execution_count": null,
   "metadata": {},
   "outputs": [],
   "source": []
  }
 ],
 "metadata": {
  "kernelspec": {
   "display_name": "base",
   "language": "python",
   "name": "python3"
  },
  "language_info": {
   "codemirror_mode": {
    "name": "ipython",
    "version": 3
   },
   "file_extension": ".py",
   "mimetype": "text/x-python",
   "name": "python",
   "nbconvert_exporter": "python",
   "pygments_lexer": "ipython3",
   "version": "3.9.13"
  }
 },
 "nbformat": 4,
 "nbformat_minor": 2
}
